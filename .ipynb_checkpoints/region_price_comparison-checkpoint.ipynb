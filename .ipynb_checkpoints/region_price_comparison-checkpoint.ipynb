{
 "cells": [
  {
   "cell_type": "code",
   "execution_count": 1,
   "metadata": {},
   "outputs": [],
   "source": [
    "# Import Dependencies\n",
    "import pandas as pd\n",
    "import matplotlib.pyplot as plt\n",
    "import scipy.stats as st\n",
    "import numpy as np\n",
    "import os\n"
   ]
  },
  {
   "cell_type": "code",
   "execution_count": 2,
   "metadata": {},
   "outputs": [
    {
     "data": {
      "text/html": [
       "<div>\n",
       "<style scoped>\n",
       "    .dataframe tbody tr th:only-of-type {\n",
       "        vertical-align: middle;\n",
       "    }\n",
       "\n",
       "    .dataframe tbody tr th {\n",
       "        vertical-align: top;\n",
       "    }\n",
       "\n",
       "    .dataframe thead th {\n",
       "        text-align: right;\n",
       "    }\n",
       "</style>\n",
       "<table border=\"1\" class=\"dataframe\">\n",
       "  <thead>\n",
       "    <tr style=\"text-align: right;\">\n",
       "      <th></th>\n",
       "      <th>Date</th>\n",
       "      <th>Area</th>\n",
       "      <th>Composite_HPI</th>\n",
       "      <th>Two_Storey_HPI</th>\n",
       "      <th>Apartment_HPI</th>\n",
       "      <th>Composite_Benchmark</th>\n",
       "      <th>Two_Storey_Benchmark</th>\n",
       "      <th>Apartment_Benchmark</th>\n",
       "    </tr>\n",
       "  </thead>\n",
       "  <tbody>\n",
       "    <tr>\n",
       "      <th>0</th>\n",
       "      <td>Jan 2005</td>\n",
       "      <td>Barrie_and_District</td>\n",
       "      <td>100.0</td>\n",
       "      <td>100.0</td>\n",
       "      <td>100.0</td>\n",
       "      <td>209000.0</td>\n",
       "      <td>220600.0</td>\n",
       "      <td>166400.0</td>\n",
       "    </tr>\n",
       "    <tr>\n",
       "      <th>1</th>\n",
       "      <td>Feb 2005</td>\n",
       "      <td>Barrie_and_District</td>\n",
       "      <td>101.5</td>\n",
       "      <td>101.2</td>\n",
       "      <td>100.3</td>\n",
       "      <td>212100.0</td>\n",
       "      <td>223200.0</td>\n",
       "      <td>166900.0</td>\n",
       "    </tr>\n",
       "    <tr>\n",
       "      <th>2</th>\n",
       "      <td>Mar 2005</td>\n",
       "      <td>Barrie_and_District</td>\n",
       "      <td>102.8</td>\n",
       "      <td>102.9</td>\n",
       "      <td>100.6</td>\n",
       "      <td>214800.0</td>\n",
       "      <td>227000.0</td>\n",
       "      <td>167400.0</td>\n",
       "    </tr>\n",
       "    <tr>\n",
       "      <th>3</th>\n",
       "      <td>Apr 2005</td>\n",
       "      <td>Barrie_and_District</td>\n",
       "      <td>103.5</td>\n",
       "      <td>103.4</td>\n",
       "      <td>100.9</td>\n",
       "      <td>216300.0</td>\n",
       "      <td>228100.0</td>\n",
       "      <td>167900.0</td>\n",
       "    </tr>\n",
       "    <tr>\n",
       "      <th>4</th>\n",
       "      <td>May 2005</td>\n",
       "      <td>Barrie_and_District</td>\n",
       "      <td>104.5</td>\n",
       "      <td>104.0</td>\n",
       "      <td>101.2</td>\n",
       "      <td>218400.0</td>\n",
       "      <td>229400.0</td>\n",
       "      <td>168400.0</td>\n",
       "    </tr>\n",
       "  </tbody>\n",
       "</table>\n",
       "</div>"
      ],
      "text/plain": [
       "       Date                 Area  Composite_HPI  Two_Storey_HPI  \\\n",
       "0  Jan 2005  Barrie_and_District          100.0           100.0   \n",
       "1  Feb 2005  Barrie_and_District          101.5           101.2   \n",
       "2  Mar 2005  Barrie_and_District          102.8           102.9   \n",
       "3  Apr 2005  Barrie_and_District          103.5           103.4   \n",
       "4  May 2005  Barrie_and_District          104.5           104.0   \n",
       "\n",
       "   Apartment_HPI  Composite_Benchmark  Two_Storey_Benchmark  \\\n",
       "0          100.0             209000.0              220600.0   \n",
       "1          100.3             212100.0              223200.0   \n",
       "2          100.6             214800.0              227000.0   \n",
       "3          100.9             216300.0              228100.0   \n",
       "4          101.2             218400.0              229400.0   \n",
       "\n",
       "   Apartment_Benchmark  \n",
       "0             166400.0  \n",
       "1             166900.0  \n",
       "2             167400.0  \n",
       "3             167900.0  \n",
       "4             168400.0  "
      ]
     },
     "execution_count": 2,
     "metadata": {},
     "output_type": "execute_result"
    }
   ],
   "source": [
    "# Read the .csv file\n",
    "housing_price = pd.read_csv('Resources/housing_prices.csv')\n",
    "housing_price.head()\n"
   ]
  },
  {
   "cell_type": "code",
   "execution_count": 3,
   "metadata": {},
   "outputs": [
    {
     "data": {
      "text/plain": [
       "(1124, 8)"
      ]
     },
     "execution_count": 3,
     "metadata": {},
     "output_type": "execute_result"
    }
   ],
   "source": [
    "# Get the dimensions of the DataFrame\n",
    "housing_price.shape"
   ]
  },
  {
   "cell_type": "code",
   "execution_count": 4,
   "metadata": {},
   "outputs": [
    {
     "data": {
      "text/html": [
       "<div>\n",
       "<style scoped>\n",
       "    .dataframe tbody tr th:only-of-type {\n",
       "        vertical-align: middle;\n",
       "    }\n",
       "\n",
       "    .dataframe tbody tr th {\n",
       "        vertical-align: top;\n",
       "    }\n",
       "\n",
       "    .dataframe thead th {\n",
       "        text-align: right;\n",
       "    }\n",
       "</style>\n",
       "<table border=\"1\" class=\"dataframe\">\n",
       "  <thead>\n",
       "    <tr style=\"text-align: right;\">\n",
       "      <th></th>\n",
       "      <th>Date</th>\n",
       "      <th>Area</th>\n",
       "      <th>Composite_HPI</th>\n",
       "      <th>Two_Storey_HPI</th>\n",
       "      <th>Apartment_HPI</th>\n",
       "      <th>Composite_Benchmark</th>\n",
       "      <th>Two_Storey_Benchmark</th>\n",
       "      <th>Apartment_Benchmark</th>\n",
       "    </tr>\n",
       "  </thead>\n",
       "  <tbody>\n",
       "    <tr>\n",
       "      <th>0</th>\n",
       "      <td>Jan 2005</td>\n",
       "      <td>Barrie_and_District</td>\n",
       "      <td>100.0</td>\n",
       "      <td>100.0</td>\n",
       "      <td>100.0</td>\n",
       "      <td>209000.0</td>\n",
       "      <td>220600.0</td>\n",
       "      <td>166400.0</td>\n",
       "    </tr>\n",
       "    <tr>\n",
       "      <th>1</th>\n",
       "      <td>Feb 2005</td>\n",
       "      <td>Barrie_and_District</td>\n",
       "      <td>101.5</td>\n",
       "      <td>101.2</td>\n",
       "      <td>100.3</td>\n",
       "      <td>212100.0</td>\n",
       "      <td>223200.0</td>\n",
       "      <td>166900.0</td>\n",
       "    </tr>\n",
       "    <tr>\n",
       "      <th>2</th>\n",
       "      <td>Mar 2005</td>\n",
       "      <td>Barrie_and_District</td>\n",
       "      <td>102.8</td>\n",
       "      <td>102.9</td>\n",
       "      <td>100.6</td>\n",
       "      <td>214800.0</td>\n",
       "      <td>227000.0</td>\n",
       "      <td>167400.0</td>\n",
       "    </tr>\n",
       "    <tr>\n",
       "      <th>3</th>\n",
       "      <td>Apr 2005</td>\n",
       "      <td>Barrie_and_District</td>\n",
       "      <td>103.5</td>\n",
       "      <td>103.4</td>\n",
       "      <td>100.9</td>\n",
       "      <td>216300.0</td>\n",
       "      <td>228100.0</td>\n",
       "      <td>167900.0</td>\n",
       "    </tr>\n",
       "    <tr>\n",
       "      <th>4</th>\n",
       "      <td>May 2005</td>\n",
       "      <td>Barrie_and_District</td>\n",
       "      <td>104.5</td>\n",
       "      <td>104.0</td>\n",
       "      <td>101.2</td>\n",
       "      <td>218400.0</td>\n",
       "      <td>229400.0</td>\n",
       "      <td>168400.0</td>\n",
       "    </tr>\n",
       "  </tbody>\n",
       "</table>\n",
       "</div>"
      ],
      "text/plain": [
       "       Date                 Area  Composite_HPI  Two_Storey_HPI  \\\n",
       "0  Jan 2005  Barrie_and_District          100.0           100.0   \n",
       "1  Feb 2005  Barrie_and_District          101.5           101.2   \n",
       "2  Mar 2005  Barrie_and_District          102.8           102.9   \n",
       "3  Apr 2005  Barrie_and_District          103.5           103.4   \n",
       "4  May 2005  Barrie_and_District          104.5           104.0   \n",
       "\n",
       "   Apartment_HPI  Composite_Benchmark  Two_Storey_Benchmark  \\\n",
       "0          100.0             209000.0              220600.0   \n",
       "1          100.3             212100.0              223200.0   \n",
       "2          100.6             214800.0              227000.0   \n",
       "3          100.9             216300.0              228100.0   \n",
       "4          101.2             218400.0              229400.0   \n",
       "\n",
       "   Apartment_Benchmark  \n",
       "0             166400.0  \n",
       "1             166900.0  \n",
       "2             167400.0  \n",
       "3             167900.0  \n",
       "4             168400.0  "
      ]
     },
     "execution_count": 4,
     "metadata": {},
     "output_type": "execute_result"
    }
   ],
   "source": [
    "# Drop any field which have no value\n",
    "housing_price = housing_price.dropna()\n",
    "housing_price.head()\n"
   ]
  },
  {
   "cell_type": "code",
   "execution_count": 20,
   "metadata": {},
   "outputs": [
    {
     "data": {
      "text/plain": [
       "(1110, 8)"
      ]
     },
     "execution_count": 20,
     "metadata": {},
     "output_type": "execute_result"
    }
   ],
   "source": [
    "# Get the dimensions of the DataFrame\n",
    "housing_price.shape\n"
   ]
  },
  {
   "cell_type": "code",
   "execution_count": 6,
   "metadata": {},
   "outputs": [
    {
     "data": {
      "text/html": [
       "<div>\n",
       "<style scoped>\n",
       "    .dataframe tbody tr th:only-of-type {\n",
       "        vertical-align: middle;\n",
       "    }\n",
       "\n",
       "    .dataframe tbody tr th {\n",
       "        vertical-align: top;\n",
       "    }\n",
       "\n",
       "    .dataframe thead th {\n",
       "        text-align: right;\n",
       "    }\n",
       "</style>\n",
       "<table border=\"1\" class=\"dataframe\">\n",
       "  <thead>\n",
       "    <tr style=\"text-align: right;\">\n",
       "      <th></th>\n",
       "      <th>Date</th>\n",
       "      <th>Region</th>\n",
       "      <th>Composite HPI</th>\n",
       "      <th>Two Storey HPI</th>\n",
       "      <th>Apartment HPI</th>\n",
       "      <th>Benchmark Price (Composite)</th>\n",
       "      <th>Benchmark Price (Two-Storey)</th>\n",
       "      <th>Benchmark Price (Apartment)</th>\n",
       "    </tr>\n",
       "  </thead>\n",
       "  <tbody>\n",
       "    <tr>\n",
       "      <th>0</th>\n",
       "      <td>Jan 2005</td>\n",
       "      <td>Barrie_and_District</td>\n",
       "      <td>100.0</td>\n",
       "      <td>100.0</td>\n",
       "      <td>100.0</td>\n",
       "      <td>209000.0</td>\n",
       "      <td>220600.0</td>\n",
       "      <td>166400.0</td>\n",
       "    </tr>\n",
       "    <tr>\n",
       "      <th>1</th>\n",
       "      <td>Feb 2005</td>\n",
       "      <td>Barrie_and_District</td>\n",
       "      <td>101.5</td>\n",
       "      <td>101.2</td>\n",
       "      <td>100.3</td>\n",
       "      <td>212100.0</td>\n",
       "      <td>223200.0</td>\n",
       "      <td>166900.0</td>\n",
       "    </tr>\n",
       "    <tr>\n",
       "      <th>2</th>\n",
       "      <td>Mar 2005</td>\n",
       "      <td>Barrie_and_District</td>\n",
       "      <td>102.8</td>\n",
       "      <td>102.9</td>\n",
       "      <td>100.6</td>\n",
       "      <td>214800.0</td>\n",
       "      <td>227000.0</td>\n",
       "      <td>167400.0</td>\n",
       "    </tr>\n",
       "    <tr>\n",
       "      <th>3</th>\n",
       "      <td>Apr 2005</td>\n",
       "      <td>Barrie_and_District</td>\n",
       "      <td>103.5</td>\n",
       "      <td>103.4</td>\n",
       "      <td>100.9</td>\n",
       "      <td>216300.0</td>\n",
       "      <td>228100.0</td>\n",
       "      <td>167900.0</td>\n",
       "    </tr>\n",
       "    <tr>\n",
       "      <th>4</th>\n",
       "      <td>May 2005</td>\n",
       "      <td>Barrie_and_District</td>\n",
       "      <td>104.5</td>\n",
       "      <td>104.0</td>\n",
       "      <td>101.2</td>\n",
       "      <td>218400.0</td>\n",
       "      <td>229400.0</td>\n",
       "      <td>168400.0</td>\n",
       "    </tr>\n",
       "  </tbody>\n",
       "</table>\n",
       "</div>"
      ],
      "text/plain": [
       "       Date               Region  Composite HPI  Two Storey HPI  \\\n",
       "0  Jan 2005  Barrie_and_District          100.0           100.0   \n",
       "1  Feb 2005  Barrie_and_District          101.5           101.2   \n",
       "2  Mar 2005  Barrie_and_District          102.8           102.9   \n",
       "3  Apr 2005  Barrie_and_District          103.5           103.4   \n",
       "4  May 2005  Barrie_and_District          104.5           104.0   \n",
       "\n",
       "   Apartment HPI  Benchmark Price (Composite)  Benchmark Price (Two-Storey)  \\\n",
       "0          100.0                     209000.0                      220600.0   \n",
       "1          100.3                     212100.0                      223200.0   \n",
       "2          100.6                     214800.0                      227000.0   \n",
       "3          100.9                     216300.0                      228100.0   \n",
       "4          101.2                     218400.0                      229400.0   \n",
       "\n",
       "   Benchmark Price (Apartment)  \n",
       "0                     166400.0  \n",
       "1                     166900.0  \n",
       "2                     167400.0  \n",
       "3                     167900.0  \n",
       "4                     168400.0  "
      ]
     },
     "execution_count": 6,
     "metadata": {},
     "output_type": "execute_result"
    }
   ],
   "source": [
    "# Rename the headers to get a clear understanding of the column\n",
    "housing_price = housing_price.rename(columns = {\"Area\" : \"Region\",\n",
    "                                               \"Composite_HPI\" : \"Composite HPI\",\n",
    "                                               \"Two_Storey_HPI\" : \"Two Storey HPI\",\n",
    "                                               \"Apartment_HPI\" : \"Apartment HPI\",\n",
    "                                               \"Composite_Benchmark\" : \"Benchmark Price (Composite)\",\n",
    "                                               \"Two_Storey_Benchmark\" : \"Benchmark Price (Two-Storey)\",\n",
    "                                               \"Apartment_Benchmark\" : \"Benchmark Price (Apartment)\"\n",
    "                                               })\n",
    "housing_price.head()\n"
   ]
  },
  {
   "cell_type": "code",
   "execution_count": 7,
   "metadata": {},
   "outputs": [
    {
     "data": {
      "text/plain": [
       "array(['Barrie_and_District', 'Greater_Toronto', 'Guelph',\n",
       "       'Hamilton_Burlington', 'Niagara_Region', 'Oakville_Milton'],\n",
       "      dtype=object)"
      ]
     },
     "execution_count": 7,
     "metadata": {},
     "output_type": "execute_result"
    }
   ],
   "source": [
    "\n",
    "housing_price[\"Region\"].unique()"
   ]
  },
  {
   "cell_type": "code",
   "execution_count": 8,
   "metadata": {},
   "outputs": [],
   "source": [
    "# housing_price = housing_price.loc[housing_price[\"Region\"] == \"Barrie_and_District\"]\n",
    "# housing_price[\"Region\"].rename()\n"
   ]
  },
  {
   "cell_type": "code",
   "execution_count": 21,
   "metadata": {},
   "outputs": [
    {
     "data": {
      "text/html": [
       "<div>\n",
       "<style scoped>\n",
       "    .dataframe tbody tr th:only-of-type {\n",
       "        vertical-align: middle;\n",
       "    }\n",
       "\n",
       "    .dataframe tbody tr th {\n",
       "        vertical-align: top;\n",
       "    }\n",
       "\n",
       "    .dataframe thead th {\n",
       "        text-align: right;\n",
       "    }\n",
       "</style>\n",
       "<table border=\"1\" class=\"dataframe\">\n",
       "  <thead>\n",
       "    <tr style=\"text-align: right;\">\n",
       "      <th>Date</th>\n",
       "      <th>May 2005</th>\n",
       "      <th>May 2020</th>\n",
       "    </tr>\n",
       "    <tr>\n",
       "      <th>Region</th>\n",
       "      <th></th>\n",
       "      <th></th>\n",
       "    </tr>\n",
       "  </thead>\n",
       "  <tbody>\n",
       "    <tr>\n",
       "      <th>Barrie_and_District</th>\n",
       "      <td>218400.0</td>\n",
       "      <td>516400.0</td>\n",
       "    </tr>\n",
       "    <tr>\n",
       "      <th>Greater_Toronto</th>\n",
       "      <td>314100.0</td>\n",
       "      <td>870000.0</td>\n",
       "    </tr>\n",
       "    <tr>\n",
       "      <th>Guelph</th>\n",
       "      <td>253500.0</td>\n",
       "      <td>592100.0</td>\n",
       "    </tr>\n",
       "    <tr>\n",
       "      <th>Hamilton_Burlington</th>\n",
       "      <td>230700.0</td>\n",
       "      <td>659800.0</td>\n",
       "    </tr>\n",
       "    <tr>\n",
       "      <th>Niagara_Region</th>\n",
       "      <td>177300.0</td>\n",
       "      <td>456400.0</td>\n",
       "    </tr>\n",
       "    <tr>\n",
       "      <th>Oakville_Milton</th>\n",
       "      <td>396700.0</td>\n",
       "      <td>1100000.0</td>\n",
       "    </tr>\n",
       "  </tbody>\n",
       "</table>\n",
       "</div>"
      ],
      "text/plain": [
       "Date                 May 2005   May 2020\n",
       "Region                                  \n",
       "Barrie_and_District  218400.0   516400.0\n",
       "Greater_Toronto      314100.0   870000.0\n",
       "Guelph               253500.0   592100.0\n",
       "Hamilton_Burlington  230700.0   659800.0\n",
       "Niagara_Region       177300.0   456400.0\n",
       "Oakville_Milton      396700.0  1100000.0"
      ]
     },
     "execution_count": 21,
     "metadata": {},
     "output_type": "execute_result"
    }
   ],
   "source": [
    "# Get the data to compare the price of the building during May 2005 and May 2020\n",
    "housingPrice_2005_2020 = housing_price.loc[((housing_price[\"Date\"] == \"May 2005\") | (housing_price[\"Date\"] == \"May 2020\"))]\n",
    "housingPrice_2005_2020 = housingPrice_2005_2020[[\"Date\", \"Region\", \"Benchmark Price (Composite)\"]]\n",
    "\n",
    "# Return reshaped organized DataFrame \n",
    "housingPrice_pivot = housingPrice_2005_2020.pivot(index= \"Region\", columns= \"Date\", values= \"Benchmark Price (Composite)\" )\n",
    "housingPrice_pivot.plot(kind = \"bar\", rot = \"vertical\", figsize = (10, 8))\n",
    "plt.xlabel(\"Name of Region\")\n",
    "plt.ylabel(\"Benchmark price for Apartment & Two-Storey\")\n",
    "plt.title(\"Comparision of prices of Apartment & Two-Storey for the year 2005 & 2020\")\n",
    "plt.figure(figsize = (20, 10))\n",
    "plt.show()\n"
   ]
  },
  {
   "cell_type": "code",
   "execution_count": 10,
   "metadata": {},
   "outputs": [
    {
     "data": {
      "image/png": "[encoded data removed]",
      "text/plain": [
       "<Figure size 720x576 with 1 Axes>"
      ]
     },
     "metadata": {
      "needs_background": "light"
     },
     "output_type": "display_data"
    },
    {
     "data": {
      "text/plain": [
       "<Figure size 1440x720 with 0 Axes>"
      ]
     },
     "metadata": {},
     "output_type": "display_data"
    }
   ],
   "source": [
    "housingPrice_2005_2020 = housing_price.loc[((housing_price[\"Date\"] == \"Jan 2020\") | (housing_price[\"Date\"] == \"May 2020\"))]\n",
    "housingPrice_2005_2020 = housingPrice_2005_2020[[\"Date\", \"Region\", \"Benchmark Price (Composite)\"]]\n",
    "\n",
    "housingPrice_pivot = housingPrice_2005_2020.pivot(index= \"Region\", columns= \"Date\", values= \"Benchmark Price (Composite)\")\n",
    "housingPrice_pivot.plot(kind = \"bar\", rot = \"vertical\", figsize = (10, 8))\n",
    "\n",
    "plt.figure(figsize = (20, 10))\n",
    "plt.show()\n"
   ]
  },
  {
   "cell_type": "code",
   "execution_count": 11,
   "metadata": {},
   "outputs": [],
   "source": [
    "# year_2005 = [\"Jan 2005\", \"Feb 2005\", \"Mar 2005\", \"Apr 2005\", \"May 2005\"]\n",
    "# year_2010 = [\"Jan 2010\", \"Feb 2010\", \"Mar 2010\", \"Apr 2010\", \"May 2010\"]\n",
    "\n",
    "# new = []\n",
    "\n",
    "# for month in year_2005:\n",
    "\n",
    "#     df = housing_price.loc[(housing_price[\"Date\"] == month)]\n",
    "#     new.append(df[\"Composite_Benchmark\"])\n",
    "# plt.plot(year_2005, new)\n"
   ]
  },
  {
   "cell_type": "code",
   "execution_count": 17,
   "metadata": {},
   "outputs": [
    {
     "data": {
      "image/png": "[encoded data removed]",
      "text/plain": [
       "<Figure size 720x576 with 1 Axes>"
      ]
     },
     "metadata": {
      "needs_background": "light"
     },
     "output_type": "display_data"
    },
    {
     "data": {
      "text/plain": [
       "<Figure size 1440x720 with 0 Axes>"
      ]
     },
     "metadata": {},
     "output_type": "display_data"
    }
   ],
   "source": [
    "housingPrice_2005_2020 = housing_price.loc[((housing_price[\"Date\"] == \"Jan 2005\") | (housing_price[\"Date\"] == \"May 2020\"))]\n",
    "housingPrice_2005_2020 = housingPrice_2005_2020[[\"Date\", \"Region\", \"Benchmark Price (Two-Storey)\", \"Benchmark Price (Apartment)\"]]\n",
    "\n",
    "\n",
    "\n",
    "\n",
    "new = housingPrice_2005_2020.pivot(index= \"Region\", columns= \"Date\", values= \"Benchmark Price (Two-Storey)\" )\n",
    "new.plot(kind = \"bar\", rot = 0, figsize = (10, 8))\n",
    "\n",
    "plt.figure(figsize = (20, 10))\n",
    "plt.show()\n"
   ]
  },
  {
   "cell_type": "code",
   "execution_count": 18,
   "metadata": {
    "scrolled": true
   },
   "outputs": [
    {
     "data": {
      "image/png": "[encoded data removed]",
      "text/plain": [
       "<Figure size 720x576 with 1 Axes>"
      ]
     },
     "metadata": {
      "needs_background": "light"
     },
     "output_type": "display_data"
    },
    {
     "data": {
      "text/plain": [
       "<Figure size 1440x720 with 0 Axes>"
      ]
     },
     "metadata": {},
     "output_type": "display_data"
    }
   ],
   "source": [
    "new = housingPrice_2005_2020.pivot(index= \"Region\", columns= \"Date\", values= [\"Benchmark Price (Apartment)\", \"Benchmark Price (Two-Storey)\"] )\n",
    "new.plot(kind = \"bar\", rot = 0, figsize = (10, 8))\n",
    "# new.plot.bar(rot=0)\n",
    "plt.figure(figsize = (20, 10))\n",
    "plt.show()\n"
   ]
  },
  {
   "cell_type": "code",
   "execution_count": 19,
   "metadata": {},
   "outputs": [
    {
     "data": {
      "image/png": "[encoded data removed]",
      "text/plain": [
       "<Figure size 720x576 with 1 Axes>"
      ]
     },
     "metadata": {
      "needs_background": "light"
     },
     "output_type": "display_data"
    },
    {
     "data": {
      "text/plain": [
       "<Figure size 1440x720 with 0 Axes>"
      ]
     },
     "metadata": {},
     "output_type": "display_data"
    }
   ],
   "source": [
    "new = housingPrice_2005_2020.pivot(index= \"Region\", columns= \"Date\", values= \"Benchmark Price (Apartment)\" )\n",
    "new.plot(kind = \"bar\", rot = 0, figsize = (10, 8))\n",
    "\n",
    "plt.figure(figsize = (20, 10))\n",
    "plt.show()\n"
   ]
  },
  {
   "cell_type": "code",
   "execution_count": 23,
   "metadata": {},
   "outputs": [
    {
     "data": {
      "text/html": [
       "<div>\n",
       "<style scoped>\n",
       "    .dataframe tbody tr th:only-of-type {\n",
       "        vertical-align: middle;\n",
       "    }\n",
       "\n",
       "    .dataframe tbody tr th {\n",
       "        vertical-align: top;\n",
       "    }\n",
       "\n",
       "    .dataframe thead th {\n",
       "        text-align: right;\n",
       "    }\n",
       "</style>\n",
       "<table border=\"1\" class=\"dataframe\">\n",
       "  <thead>\n",
       "    <tr style=\"text-align: right;\">\n",
       "      <th></th>\n",
       "      <th>Date</th>\n",
       "      <th>Region</th>\n",
       "      <th>Composite HPI</th>\n",
       "      <th>Two Storey HPI</th>\n",
       "      <th>Apartment HPI</th>\n",
       "      <th>Benchmark Price (Composite)</th>\n",
       "      <th>Benchmark Price (Two-Storey)</th>\n",
       "      <th>Benchmark Price (Apartment)</th>\n",
       "    </tr>\n",
       "  </thead>\n",
       "  <tbody>\n",
       "    <tr>\n",
       "      <th>185</th>\n",
       "      <td>Jan 2005</td>\n",
       "      <td>Greater_Toronto</td>\n",
       "      <td>100.0</td>\n",
       "      <td>100.0</td>\n",
       "      <td>100.0</td>\n",
       "      <td>303500.0</td>\n",
       "      <td>358300.0</td>\n",
       "      <td>200400.0</td>\n",
       "    </tr>\n",
       "    <tr>\n",
       "      <th>186</th>\n",
       "      <td>Feb 2005</td>\n",
       "      <td>Greater_Toronto</td>\n",
       "      <td>100.9</td>\n",
       "      <td>101.1</td>\n",
       "      <td>100.0</td>\n",
       "      <td>306200.0</td>\n",
       "      <td>362300.0</td>\n",
       "      <td>200400.0</td>\n",
       "    </tr>\n",
       "    <tr>\n",
       "      <th>187</th>\n",
       "      <td>Mar 2005</td>\n",
       "      <td>Greater_Toronto</td>\n",
       "      <td>101.9</td>\n",
       "      <td>102.4</td>\n",
       "      <td>100.7</td>\n",
       "      <td>309200.0</td>\n",
       "      <td>366900.0</td>\n",
       "      <td>201800.0</td>\n",
       "    </tr>\n",
       "    <tr>\n",
       "      <th>188</th>\n",
       "      <td>Apr 2005</td>\n",
       "      <td>Greater_Toronto</td>\n",
       "      <td>102.7</td>\n",
       "      <td>103.4</td>\n",
       "      <td>101.1</td>\n",
       "      <td>311700.0</td>\n",
       "      <td>370500.0</td>\n",
       "      <td>202600.0</td>\n",
       "    </tr>\n",
       "    <tr>\n",
       "      <th>189</th>\n",
       "      <td>May 2005</td>\n",
       "      <td>Greater_Toronto</td>\n",
       "      <td>103.5</td>\n",
       "      <td>103.9</td>\n",
       "      <td>102.0</td>\n",
       "      <td>314100.0</td>\n",
       "      <td>372300.0</td>\n",
       "      <td>204400.0</td>\n",
       "    </tr>\n",
       "    <tr>\n",
       "      <th>...</th>\n",
       "      <td>...</td>\n",
       "      <td>...</td>\n",
       "      <td>...</td>\n",
       "      <td>...</td>\n",
       "      <td>...</td>\n",
       "      <td>...</td>\n",
       "      <td>...</td>\n",
       "      <td>...</td>\n",
       "    </tr>\n",
       "    <tr>\n",
       "      <th>1105</th>\n",
       "      <td>Jan 2020</td>\n",
       "      <td>Oakville_Milton</td>\n",
       "      <td>276.4</td>\n",
       "      <td>280.4</td>\n",
       "      <td>247.6</td>\n",
       "      <td>1048400.0</td>\n",
       "      <td>1100600.0</td>\n",
       "      <td>553600.0</td>\n",
       "    </tr>\n",
       "    <tr>\n",
       "      <th>1106</th>\n",
       "      <td>Feb 2020</td>\n",
       "      <td>Oakville_Milton</td>\n",
       "      <td>284.2</td>\n",
       "      <td>289.9</td>\n",
       "      <td>248.4</td>\n",
       "      <td>1078000.0</td>\n",
       "      <td>1137900.0</td>\n",
       "      <td>555400.0</td>\n",
       "    </tr>\n",
       "    <tr>\n",
       "      <th>1107</th>\n",
       "      <td>Mar 2020</td>\n",
       "      <td>Oakville_Milton</td>\n",
       "      <td>293.5</td>\n",
       "      <td>300.0</td>\n",
       "      <td>253.1</td>\n",
       "      <td>1113200.0</td>\n",
       "      <td>1177500.0</td>\n",
       "      <td>565900.0</td>\n",
       "    </tr>\n",
       "    <tr>\n",
       "      <th>1108</th>\n",
       "      <td>Apr 2020</td>\n",
       "      <td>Oakville_Milton</td>\n",
       "      <td>289.2</td>\n",
       "      <td>292.8</td>\n",
       "      <td>257.1</td>\n",
       "      <td>1096900.0</td>\n",
       "      <td>1149300.0</td>\n",
       "      <td>574900.0</td>\n",
       "    </tr>\n",
       "    <tr>\n",
       "      <th>1109</th>\n",
       "      <td>May 2020</td>\n",
       "      <td>Oakville_Milton</td>\n",
       "      <td>290.0</td>\n",
       "      <td>292.5</td>\n",
       "      <td>266.8</td>\n",
       "      <td>1100000.0</td>\n",
       "      <td>1148100.0</td>\n",
       "      <td>596600.0</td>\n",
       "    </tr>\n",
       "  </tbody>\n",
       "</table>\n",
       "<p>370 rows × 8 columns</p>\n",
       "</div>"
      ],
      "text/plain": [
       "          Date           Region  Composite HPI  Two Storey HPI  Apartment HPI  \\\n",
       "185   Jan 2005  Greater_Toronto          100.0           100.0          100.0   \n",
       "186   Feb 2005  Greater_Toronto          100.9           101.1          100.0   \n",
       "187   Mar 2005  Greater_Toronto          101.9           102.4          100.7   \n",
       "188   Apr 2005  Greater_Toronto          102.7           103.4          101.1   \n",
       "189   May 2005  Greater_Toronto          103.5           103.9          102.0   \n",
       "...        ...              ...            ...             ...            ...   \n",
       "1105  Jan 2020  Oakville_Milton          276.4           280.4          247.6   \n",
       "1106  Feb 2020  Oakville_Milton          284.2           289.9          248.4   \n",
       "1107  Mar 2020  Oakville_Milton          293.5           300.0          253.1   \n",
       "1108  Apr 2020  Oakville_Milton          289.2           292.8          257.1   \n",
       "1109  May 2020  Oakville_Milton          290.0           292.5          266.8   \n",
       "\n",
       "      Benchmark Price (Composite)  Benchmark Price (Two-Storey)  \\\n",
       "185                      303500.0                      358300.0   \n",
       "186                      306200.0                      362300.0   \n",
       "187                      309200.0                      366900.0   \n",
       "188                      311700.0                      370500.0   \n",
       "189                      314100.0                      372300.0   \n",
       "...                           ...                           ...   \n",
       "1105                    1048400.0                     1100600.0   \n",
       "1106                    1078000.0                     1137900.0   \n",
       "1107                    1113200.0                     1177500.0   \n",
       "1108                    1096900.0                     1149300.0   \n",
       "1109                    1100000.0                     1148100.0   \n",
       "\n",
       "      Benchmark Price (Apartment)  \n",
       "185                      200400.0  \n",
       "186                      200400.0  \n",
       "187                      201800.0  \n",
       "188                      202600.0  \n",
       "189                      204400.0  \n",
       "...                           ...  \n",
       "1105                     553600.0  \n",
       "1106                     555400.0  \n",
       "1107                     565900.0  \n",
       "1108                     574900.0  \n",
       "1109                     596600.0  \n",
       "\n",
       "[370 rows x 8 columns]"
      ]
     },
     "execution_count": 23,
     "metadata": {},
     "output_type": "execute_result"
    }
   ],
   "source": [
    "housing_price.loc[(housing_price[\"Region\"] == \"Greater_Toronto\") | (housing_price[\"Region\"] == \"Oakville_Milton\")]\n",
    "                 \n",
    "                 \n",
    "                 \n",
    "                 "
   ]
  },
  {
   "cell_type": "code",
   "execution_count": null,
   "metadata": {},
   "outputs": [],
   "source": []
  }
 ],
 "metadata": {
  "kernelspec": {
   "display_name": "Python [conda env:PythonData] *",
   "language": "python",
   "name": "conda-env-PythonData-py"
  },
  "language_info": {
   "codemirror_mode": {
    "name": "ipython",
    "version": 3
   },
   "file_extension": ".py",
   "mimetype": "text/x-python",
   "name": "python",
   "nbconvert_exporter": "python",
   "pygments_lexer": "ipython3",
   "version": "3.6.10"
  }
 },
 "nbformat": 4,
 "nbformat_minor": 4
}
