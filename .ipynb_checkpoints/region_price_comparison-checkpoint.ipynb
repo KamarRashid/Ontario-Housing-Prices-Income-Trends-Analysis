{
 "cells": [
  {
   "cell_type": "code",
   "execution_count": 2,
   "metadata": {},
   "outputs": [],
   "source": [
    "# Import Dependencies\n",
    "import pandas as pd\n",
    "import matplotlib.pyplot as plt\n",
    "import numpy as np\n"
   ]
  },
  {
   "cell_type": "code",
   "execution_count": 25,
   "metadata": {},
   "outputs": [
    {
     "data": {
      "text/html": [
       "<div>\n",
       "<style scoped>\n",
       "    .dataframe tbody tr th:only-of-type {\n",
       "        vertical-align: middle;\n",
       "    }\n",
       "\n",
       "    .dataframe tbody tr th {\n",
       "        vertical-align: top;\n",
       "    }\n",
       "\n",
       "    .dataframe thead th {\n",
       "        text-align: right;\n",
       "    }\n",
       "</style>\n",
       "<table border=\"1\" class=\"dataframe\">\n",
       "  <thead>\n",
       "    <tr style=\"text-align: right;\">\n",
       "      <th></th>\n",
       "      <th>Date</th>\n",
       "      <th>Area</th>\n",
       "      <th>Composite_HPI</th>\n",
       "      <th>Two_Storey_HPI</th>\n",
       "      <th>Apartment_HPI</th>\n",
       "      <th>Composite_Benchmark</th>\n",
       "      <th>Two_Storey_Benchmark</th>\n",
       "      <th>Apartment_Benchmark</th>\n",
       "    </tr>\n",
       "  </thead>\n",
       "  <tbody>\n",
       "    <tr>\n",
       "      <th>0</th>\n",
       "      <td>Jan 2005</td>\n",
       "      <td>Barrie_and_District</td>\n",
       "      <td>100.0</td>\n",
       "      <td>100.0</td>\n",
       "      <td>100.0</td>\n",
       "      <td>209000.0</td>\n",
       "      <td>220600.0</td>\n",
       "      <td>166400.0</td>\n",
       "    </tr>\n",
       "    <tr>\n",
       "      <th>1</th>\n",
       "      <td>Feb 2005</td>\n",
       "      <td>Barrie_and_District</td>\n",
       "      <td>101.5</td>\n",
       "      <td>101.2</td>\n",
       "      <td>100.3</td>\n",
       "      <td>212100.0</td>\n",
       "      <td>223200.0</td>\n",
       "      <td>166900.0</td>\n",
       "    </tr>\n",
       "    <tr>\n",
       "      <th>2</th>\n",
       "      <td>Mar 2005</td>\n",
       "      <td>Barrie_and_District</td>\n",
       "      <td>102.8</td>\n",
       "      <td>102.9</td>\n",
       "      <td>100.6</td>\n",
       "      <td>214800.0</td>\n",
       "      <td>227000.0</td>\n",
       "      <td>167400.0</td>\n",
       "    </tr>\n",
       "    <tr>\n",
       "      <th>3</th>\n",
       "      <td>Apr 2005</td>\n",
       "      <td>Barrie_and_District</td>\n",
       "      <td>103.5</td>\n",
       "      <td>103.4</td>\n",
       "      <td>100.9</td>\n",
       "      <td>216300.0</td>\n",
       "      <td>228100.0</td>\n",
       "      <td>167900.0</td>\n",
       "    </tr>\n",
       "    <tr>\n",
       "      <th>4</th>\n",
       "      <td>May 2005</td>\n",
       "      <td>Barrie_and_District</td>\n",
       "      <td>104.5</td>\n",
       "      <td>104.0</td>\n",
       "      <td>101.2</td>\n",
       "      <td>218400.0</td>\n",
       "      <td>229400.0</td>\n",
       "      <td>168400.0</td>\n",
       "    </tr>\n",
       "  </tbody>\n",
       "</table>\n",
       "</div>"
      ],
      "text/plain": [
       "       Date                 Area  Composite_HPI  Two_Storey_HPI  \\\n",
       "0  Jan 2005  Barrie_and_District          100.0           100.0   \n",
       "1  Feb 2005  Barrie_and_District          101.5           101.2   \n",
       "2  Mar 2005  Barrie_and_District          102.8           102.9   \n",
       "3  Apr 2005  Barrie_and_District          103.5           103.4   \n",
       "4  May 2005  Barrie_and_District          104.5           104.0   \n",
       "\n",
       "   Apartment_HPI  Composite_Benchmark  Two_Storey_Benchmark  \\\n",
       "0          100.0             209000.0              220600.0   \n",
       "1          100.3             212100.0              223200.0   \n",
       "2          100.6             214800.0              227000.0   \n",
       "3          100.9             216300.0              228100.0   \n",
       "4          101.2             218400.0              229400.0   \n",
       "\n",
       "   Apartment_Benchmark  \n",
       "0             166400.0  \n",
       "1             166900.0  \n",
       "2             167400.0  \n",
       "3             167900.0  \n",
       "4             168400.0  "
      ]
     },
     "execution_count": 25,
     "metadata": {},
     "output_type": "execute_result"
    }
   ],
   "source": [
    "# Read the .csv file\n",
    "housing_price = pd.read_csv('Resources/housing_prices.csv')\n",
    "housing_price.head()\n"
   ]
  },
  {
   "cell_type": "code",
   "execution_count": 26,
   "metadata": {},
   "outputs": [
    {
     "data": {
      "text/plain": [
       "(1124, 8)"
      ]
     },
     "execution_count": 26,
     "metadata": {},
     "output_type": "execute_result"
    }
   ],
   "source": [
    "# Get the dimensions of the DataFrame\n",
    "housing_price.shape"
   ]
  },
  {
   "cell_type": "code",
   "execution_count": 27,
   "metadata": {},
   "outputs": [
    {
     "data": {
      "text/html": [
       "<div>\n",
       "<style scoped>\n",
       "    .dataframe tbody tr th:only-of-type {\n",
       "        vertical-align: middle;\n",
       "    }\n",
       "\n",
       "    .dataframe tbody tr th {\n",
       "        vertical-align: top;\n",
       "    }\n",
       "\n",
       "    .dataframe thead th {\n",
       "        text-align: right;\n",
       "    }\n",
       "</style>\n",
       "<table border=\"1\" class=\"dataframe\">\n",
       "  <thead>\n",
       "    <tr style=\"text-align: right;\">\n",
       "      <th></th>\n",
       "      <th>Date</th>\n",
       "      <th>Area</th>\n",
       "      <th>Composite_HPI</th>\n",
       "      <th>Two_Storey_HPI</th>\n",
       "      <th>Apartment_HPI</th>\n",
       "      <th>Composite_Benchmark</th>\n",
       "      <th>Two_Storey_Benchmark</th>\n",
       "      <th>Apartment_Benchmark</th>\n",
       "    </tr>\n",
       "  </thead>\n",
       "  <tbody>\n",
       "    <tr>\n",
       "      <th>0</th>\n",
       "      <td>Jan 2005</td>\n",
       "      <td>Barrie_and_District</td>\n",
       "      <td>100.0</td>\n",
       "      <td>100.0</td>\n",
       "      <td>100.0</td>\n",
       "      <td>209000.0</td>\n",
       "      <td>220600.0</td>\n",
       "      <td>166400.0</td>\n",
       "    </tr>\n",
       "    <tr>\n",
       "      <th>1</th>\n",
       "      <td>Feb 2005</td>\n",
       "      <td>Barrie_and_District</td>\n",
       "      <td>101.5</td>\n",
       "      <td>101.2</td>\n",
       "      <td>100.3</td>\n",
       "      <td>212100.0</td>\n",
       "      <td>223200.0</td>\n",
       "      <td>166900.0</td>\n",
       "    </tr>\n",
       "    <tr>\n",
       "      <th>2</th>\n",
       "      <td>Mar 2005</td>\n",
       "      <td>Barrie_and_District</td>\n",
       "      <td>102.8</td>\n",
       "      <td>102.9</td>\n",
       "      <td>100.6</td>\n",
       "      <td>214800.0</td>\n",
       "      <td>227000.0</td>\n",
       "      <td>167400.0</td>\n",
       "    </tr>\n",
       "    <tr>\n",
       "      <th>3</th>\n",
       "      <td>Apr 2005</td>\n",
       "      <td>Barrie_and_District</td>\n",
       "      <td>103.5</td>\n",
       "      <td>103.4</td>\n",
       "      <td>100.9</td>\n",
       "      <td>216300.0</td>\n",
       "      <td>228100.0</td>\n",
       "      <td>167900.0</td>\n",
       "    </tr>\n",
       "    <tr>\n",
       "      <th>4</th>\n",
       "      <td>May 2005</td>\n",
       "      <td>Barrie_and_District</td>\n",
       "      <td>104.5</td>\n",
       "      <td>104.0</td>\n",
       "      <td>101.2</td>\n",
       "      <td>218400.0</td>\n",
       "      <td>229400.0</td>\n",
       "      <td>168400.0</td>\n",
       "    </tr>\n",
       "  </tbody>\n",
       "</table>\n",
       "</div>"
      ],
      "text/plain": [
       "       Date                 Area  Composite_HPI  Two_Storey_HPI  \\\n",
       "0  Jan 2005  Barrie_and_District          100.0           100.0   \n",
       "1  Feb 2005  Barrie_and_District          101.5           101.2   \n",
       "2  Mar 2005  Barrie_and_District          102.8           102.9   \n",
       "3  Apr 2005  Barrie_and_District          103.5           103.4   \n",
       "4  May 2005  Barrie_and_District          104.5           104.0   \n",
       "\n",
       "   Apartment_HPI  Composite_Benchmark  Two_Storey_Benchmark  \\\n",
       "0          100.0             209000.0              220600.0   \n",
       "1          100.3             212100.0              223200.0   \n",
       "2          100.6             214800.0              227000.0   \n",
       "3          100.9             216300.0              228100.0   \n",
       "4          101.2             218400.0              229400.0   \n",
       "\n",
       "   Apartment_Benchmark  \n",
       "0             166400.0  \n",
       "1             166900.0  \n",
       "2             167400.0  \n",
       "3             167900.0  \n",
       "4             168400.0  "
      ]
     },
     "execution_count": 27,
     "metadata": {},
     "output_type": "execute_result"
    }
   ],
   "source": [
    "# Drop any field which have no value\n",
    "housing_price = housing_price.dropna()\n",
    "housing_price.head()\n"
   ]
  },
  {
   "cell_type": "code",
   "execution_count": 28,
   "metadata": {},
   "outputs": [
    {
     "data": {
      "text/plain": [
       "(1110, 8)"
      ]
     },
     "execution_count": 28,
     "metadata": {},
     "output_type": "execute_result"
    }
   ],
   "source": [
    "# Get the dimensions of the DataFrame\n",
    "housing_price.shape\n"
   ]
  },
  {
   "cell_type": "code",
   "execution_count": 29,
   "metadata": {},
   "outputs": [
    {
     "data": {
      "text/html": [
       "<div>\n",
       "<style scoped>\n",
       "    .dataframe tbody tr th:only-of-type {\n",
       "        vertical-align: middle;\n",
       "    }\n",
       "\n",
       "    .dataframe tbody tr th {\n",
       "        vertical-align: top;\n",
       "    }\n",
       "\n",
       "    .dataframe thead th {\n",
       "        text-align: right;\n",
       "    }\n",
       "</style>\n",
       "<table border=\"1\" class=\"dataframe\">\n",
       "  <thead>\n",
       "    <tr style=\"text-align: right;\">\n",
       "      <th></th>\n",
       "      <th>Date</th>\n",
       "      <th>Region</th>\n",
       "      <th>Composite HPI</th>\n",
       "      <th>Two Storey HPI</th>\n",
       "      <th>Apartment HPI</th>\n",
       "      <th>Benchmark Price (Composite)</th>\n",
       "      <th>Benchmark Price (Two-Storey)</th>\n",
       "      <th>Benchmark Price (Apartment)</th>\n",
       "    </tr>\n",
       "  </thead>\n",
       "  <tbody>\n",
       "    <tr>\n",
       "      <th>0</th>\n",
       "      <td>Jan 2005</td>\n",
       "      <td>Barrie</td>\n",
       "      <td>100.0</td>\n",
       "      <td>100.0</td>\n",
       "      <td>100.0</td>\n",
       "      <td>209000.0</td>\n",
       "      <td>220600.0</td>\n",
       "      <td>166400.0</td>\n",
       "    </tr>\n",
       "    <tr>\n",
       "      <th>1</th>\n",
       "      <td>Feb 2005</td>\n",
       "      <td>Barrie</td>\n",
       "      <td>101.5</td>\n",
       "      <td>101.2</td>\n",
       "      <td>100.3</td>\n",
       "      <td>212100.0</td>\n",
       "      <td>223200.0</td>\n",
       "      <td>166900.0</td>\n",
       "    </tr>\n",
       "    <tr>\n",
       "      <th>2</th>\n",
       "      <td>Mar 2005</td>\n",
       "      <td>Barrie</td>\n",
       "      <td>102.8</td>\n",
       "      <td>102.9</td>\n",
       "      <td>100.6</td>\n",
       "      <td>214800.0</td>\n",
       "      <td>227000.0</td>\n",
       "      <td>167400.0</td>\n",
       "    </tr>\n",
       "    <tr>\n",
       "      <th>3</th>\n",
       "      <td>Apr 2005</td>\n",
       "      <td>Barrie</td>\n",
       "      <td>103.5</td>\n",
       "      <td>103.4</td>\n",
       "      <td>100.9</td>\n",
       "      <td>216300.0</td>\n",
       "      <td>228100.0</td>\n",
       "      <td>167900.0</td>\n",
       "    </tr>\n",
       "    <tr>\n",
       "      <th>4</th>\n",
       "      <td>May 2005</td>\n",
       "      <td>Barrie</td>\n",
       "      <td>104.5</td>\n",
       "      <td>104.0</td>\n",
       "      <td>101.2</td>\n",
       "      <td>218400.0</td>\n",
       "      <td>229400.0</td>\n",
       "      <td>168400.0</td>\n",
       "    </tr>\n",
       "  </tbody>\n",
       "</table>\n",
       "</div>"
      ],
      "text/plain": [
       "       Date  Region  Composite HPI  Two Storey HPI  Apartment HPI  \\\n",
       "0  Jan 2005  Barrie          100.0           100.0          100.0   \n",
       "1  Feb 2005  Barrie          101.5           101.2          100.3   \n",
       "2  Mar 2005  Barrie          102.8           102.9          100.6   \n",
       "3  Apr 2005  Barrie          103.5           103.4          100.9   \n",
       "4  May 2005  Barrie          104.5           104.0          101.2   \n",
       "\n",
       "   Benchmark Price (Composite)  Benchmark Price (Two-Storey)  \\\n",
       "0                     209000.0                      220600.0   \n",
       "1                     212100.0                      223200.0   \n",
       "2                     214800.0                      227000.0   \n",
       "3                     216300.0                      228100.0   \n",
       "4                     218400.0                      229400.0   \n",
       "\n",
       "   Benchmark Price (Apartment)  \n",
       "0                     166400.0  \n",
       "1                     166900.0  \n",
       "2                     167400.0  \n",
       "3                     167900.0  \n",
       "4                     168400.0  "
      ]
     },
     "execution_count": 29,
     "metadata": {},
     "output_type": "execute_result"
    }
   ],
   "source": [
    "# Rename the headers to get a clear understanding of the column\n",
    "housing_price = housing_price.rename(columns = {\"Area\" : \"Region\",\n",
    "                                               \"Composite_HPI\" : \"Composite HPI\",\n",
    "                                               \"Two_Storey_HPI\" : \"Two Storey HPI\",\n",
    "                                               \"Apartment_HPI\" : \"Apartment HPI\",\n",
    "                                               \"Composite_Benchmark\" : \"Benchmark Price (Composite)\",\n",
    "                                               \"Two_Storey_Benchmark\" : \"Benchmark Price (Two-Storey)\",\n",
    "                                               \"Apartment_Benchmark\" : \"Benchmark Price (Apartment)\"\n",
    "                                               })\n",
    "\n",
    "# Renaming Regions in df\n",
    "housing_price['Region'] = housing_price['Region'].replace({'Barrie_and_District': 'Barrie', 'Niagara_Region': 'Niagara', \n",
    "                                                            'Hamilton_Burlington': 'Hamilton & Burlington', \n",
    "                                                             'Greater_Toronto': 'Greater Toronto',\n",
    "                                                            'Oakville_Milton':'Oakville & Milton'})\n",
    "\n",
    "housing_price.head()\n"
   ]
  },
  {
   "cell_type": "code",
   "execution_count": 30,
   "metadata": {},
   "outputs": [
    {
     "data": {
      "text/plain": [
       "array(['Barrie', 'Greater Toronto', 'Guelph', 'Hamilton & Burlington',\n",
       "       'Niagara', 'Oakville & Milton'], dtype=object)"
      ]
     },
     "execution_count": 30,
     "metadata": {},
     "output_type": "execute_result"
    }
   ],
   "source": [
    "\n",
    "housing_price[\"Region\"].unique()"
   ]
  },
  {
   "cell_type": "code",
   "execution_count": 31,
   "metadata": {},
   "outputs": [],
   "source": [
    "# housing_price = housing_price.loc[housing_price[\"Region\"] == \"Barrie_and_District\"]\n",
    "# housing_price[\"Region\"].rename()\n"
   ]
  },
  {
   "cell_type": "code",
   "execution_count": 32,
   "metadata": {},
   "outputs": [
    {
     "data": {
      "image/png": "[encoded data removed]",
      "text/plain": [
       "<Figure size 720x576 with 1 Axes>"
      ]
     },
     "metadata": {
      "needs_background": "light"
     },
     "output_type": "display_data"
    },
    {
     "data": {
      "text/plain": [
       "<Figure size 1440x720 with 0 Axes>"
      ]
     },
     "metadata": {},
     "output_type": "display_data"
    }
   ],
   "source": [
    "# Get the data to compare the price of the building during May 2015 and May 2020\n",
    "housingPrice_2005_2020 = housing_price.loc[((housing_price[\"Date\"] == \"May 2015\") | (housing_price[\"Date\"] == \"May 2020\"))]\n",
    "housingPrice_2005_2020 = housingPrice_2005_2020[[\"Date\", \"Region\", \"Benchmark Price (Composite)\"]]\n",
    "\n",
    "# Return reshaped organized DataFrame \n",
    "housingPrice_pivot = housingPrice_2005_2020.pivot(index= \"Region\", columns= \"Date\", values= \"Benchmark Price (Composite)\" )\n",
    "housingPrice_pivot.plot(kind = \"bar\", rot = 0, figsize = (10, 8))\n",
    "plt.xlabel(\"Name of Region\")\n",
    "plt.ylabel(\"Benchmark price\")\n",
    "plt.title(\"Comparision of Composite prices for 2015 and 2020\")\n",
    "plt.figure(figsize = (20, 10))\n",
    "plt.show()\n"
   ]
  },
  {
   "cell_type": "markdown",
   "metadata": {},
   "source": [
    "# Observation\n",
    "We selected 6 regions in Ontario to compare the prices of apartment and two-storey buildings. We have data from Jan 2005 till May 2020. We are comparing the prices of apartment and two-storey for the month of May in 2005 and 2020. \n",
    "From the above bar chart, we see that the prices have increased more than two folds in all regions."
   ]
  },
  {
   "cell_type": "code",
   "execution_count": 33,
   "metadata": {},
   "outputs": [
    {
     "data": {
      "text/html": [
       "<div>\n",
       "<style scoped>\n",
       "    .dataframe tbody tr th:only-of-type {\n",
       "        vertical-align: middle;\n",
       "    }\n",
       "\n",
       "    .dataframe tbody tr th {\n",
       "        vertical-align: top;\n",
       "    }\n",
       "\n",
       "    .dataframe thead th {\n",
       "        text-align: right;\n",
       "    }\n",
       "</style>\n",
       "<table border=\"1\" class=\"dataframe\">\n",
       "  <thead>\n",
       "    <tr style=\"text-align: right;\">\n",
       "      <th></th>\n",
       "      <th>percent change 2019</th>\n",
       "      <th>percent change 2020</th>\n",
       "    </tr>\n",
       "    <tr>\n",
       "      <th>Region</th>\n",
       "      <th></th>\n",
       "      <th></th>\n",
       "    </tr>\n",
       "  </thead>\n",
       "  <tbody>\n",
       "    <tr>\n",
       "      <th>Barrie</th>\n",
       "      <td>-1.558164</td>\n",
       "      <td>6.015192</td>\n",
       "    </tr>\n",
       "    <tr>\n",
       "      <th>Greater Toronto</th>\n",
       "      <td>4.138834</td>\n",
       "      <td>5.047090</td>\n",
       "    </tr>\n",
       "    <tr>\n",
       "      <th>Guelph</th>\n",
       "      <td>4.502098</td>\n",
       "      <td>4.298045</td>\n",
       "    </tr>\n",
       "    <tr>\n",
       "      <th>Hamilton &amp; Burlington</th>\n",
       "      <td>3.480796</td>\n",
       "      <td>4.763417</td>\n",
       "    </tr>\n",
       "    <tr>\n",
       "      <th>Niagara</th>\n",
       "      <td>3.709311</td>\n",
       "      <td>4.919540</td>\n",
       "    </tr>\n",
       "    <tr>\n",
       "      <th>Oakville &amp; Milton</th>\n",
       "      <td>2.694217</td>\n",
       "      <td>4.921786</td>\n",
       "    </tr>\n",
       "  </tbody>\n",
       "</table>\n",
       "</div>"
      ],
      "text/plain": [
       "                       percent change 2019  percent change 2020\n",
       "Region                                                         \n",
       "Barrie                           -1.558164             6.015192\n",
       "Greater Toronto                   4.138834             5.047090\n",
       "Guelph                            4.502098             4.298045\n",
       "Hamilton & Burlington             3.480796             4.763417\n",
       "Niagara                           3.709311             4.919540\n",
       "Oakville & Milton                 2.694217             4.921786"
      ]
     },
     "execution_count": 33,
     "metadata": {},
     "output_type": "execute_result"
    }
   ],
   "source": [
    "composite_may_2019 = housing_price.loc[housing_price[\"Date\"] == \"May 2019\"][\"Benchmark Price (Composite)\"]\n",
    "composite_jan_2019 = housing_price.loc[housing_price[\"Date\"] == \"Jan 2019\"][\"Benchmark Price (Composite)\"]\n",
    "composite_jan_2020 = housing_price.loc[housing_price[\"Date\"] == \"Jan 2020\"][\"Benchmark Price (Composite)\"]\n",
    "composite_may_2020 = housing_price.loc[housing_price[\"Date\"] == \"May 2020\"][\"Benchmark Price (Composite)\"]\n",
    "\n",
    "x = np.array(composite_may_2019, dtype = np.float)\n",
    "y = np.array(composite_jan_2019, dtype = np.float)\n",
    "a = np.array(composite_jan_2020, dtype = np.float)\n",
    "b = np.array(composite_may_2020, dtype = np.float)\n",
    "\n",
    "percent_change_2019 = (x/y - 1) * 100\n",
    "percent_change_2020 = (b/a - 1) * 100\n",
    "\n",
    "percent_change_2019 = percent_change_2019 .tolist()\n",
    "percent_change_2020 = percent_change_2020.tolist()\n",
    "\n",
    "region_name = housing_price[\"Region\"].unique()\n",
    "\n",
    "percentChange_df = pd.DataFrame({\"Region\" : region_name,\n",
    "                       \"percent change 2019\" : percent_change_2019, \n",
    "                       \"percent change 2020\" : percent_change_2020\n",
    "                      })\n",
    "\n",
    "percentChange_df = percentChange_df.set_index(\"Region\")\n",
    "percentChange_df\n"
   ]
  },
  {
   "cell_type": "code",
   "execution_count": 34,
   "metadata": {},
   "outputs": [
    {
     "data": {
      "text/plain": [
       "Text(0.5, 1.0, 'Percent change in composite benchmark prices 2019 vs 2020')"
      ]
     },
     "execution_count": 34,
     "metadata": {},
     "output_type": "execute_result"
    },
    {
     "data": {
      "image/png": "[encoded data removed]",
      "text/plain": [
       "<Figure size 720x576 with 1 Axes>"
      ]
     },
     "metadata": {
      "needs_background": "light"
     },
     "output_type": "display_data"
    }
   ],
   "source": [
    "percentChange_df.plot(kind = \"bar\", rot = 0, figsize = (10, 8))\n",
    "plt.xlabel(\"Region Name\")\n",
    "plt.ylabel(\"Percentage change\")\n",
    "plt.title(\"Percent change in composite benchmark prices 2019 vs 2020\")\n"
   ]
  },
  {
   "cell_type": "markdown",
   "metadata": {},
   "source": [
    "# Observation\n",
    "On 11th March, 2020, the WHO declared Covid -19 as pandemic. To analyse about the impact of Covid-19 on the housing prices, we are comparing the house prices from Jan 2020 and May 2020. To our astonishment, we see that the house prices have increased irrespective of the pandemic. Housing prices are sticky and we are not seeing a significant impact of Covid-19 on housing prices. The impact of covid would be more visible if we analyse the data of quantity of transactions. Our data lacks the real time data by 60 to 90 days (due to closing date which is typically 60 to 90 days after transaction). "
   ]
  },
  {
   "cell_type": "code",
   "execution_count": 35,
   "metadata": {},
   "outputs": [
    {
     "data": {
      "image/png": "[encoded data removed]",
      "text/plain": [
       "<Figure size 720x576 with 1 Axes>"
      ]
     },
     "metadata": {
      "needs_background": "light"
     },
     "output_type": "display_data"
    },
    {
     "data": {
      "text/plain": [
       "<Figure size 1440x720 with 0 Axes>"
      ]
     },
     "metadata": {},
     "output_type": "display_data"
    }
   ],
   "source": [
    "housingPrice_2005_2020 = housing_price.loc[(housing_price[\"Date\"] == \"May 2020\")]\n",
    "new = housingPrice_2005_2020.pivot(index= \"Region\", columns= \"Date\", values= [\"Benchmark Price (Apartment)\", \"Benchmark Price (Two-Storey)\"] )\n",
    "new.plot(kind = \"bar\", rot = 0, figsize = (10, 8))\n",
    "plt.xlabel(\"Name of Region\")\n",
    "plt.ylabel(\"Benchmark price for Apartment & Two-Storey\")\n",
    "plt.title(\"Comparision of prices of Apartment & Two-Storey for May 2020\")\n",
    "plt.figure(figsize = (20, 10))\n",
    "plt.show()\n"
   ]
  },
  {
   "cell_type": "markdown",
   "metadata": {},
   "source": [
    "# Observation\n",
    "From the above chart, we see that the price of apartment is always cheaper than the two-storey building in any region."
   ]
  },
  {
   "cell_type": "code",
   "execution_count": null,
   "metadata": {},
   "outputs": [],
   "source": []
  },
  {
   "cell_type": "code",
   "execution_count": null,
   "metadata": {},
   "outputs": [],
   "source": []
  },
  {
   "cell_type": "code",
   "execution_count": null,
   "metadata": {},
   "outputs": [],
   "source": [
    "# housingPrice_2005_2020 = housing_price.loc[((housing_price[\"Date\"] == \"Jan 2020\") | (housing_price[\"Date\"] == \"May 2020\"))]\n",
    "\n",
    "# housingPrice_2005_2020 = housingPrice_2005_2020[[\"Date\", \"Region\", \"Benchmark Price (Apartment)\"]]\n",
    "\n",
    "# housingPrice_pivot = housingPrice_2005_2020.pivot(index= \"Region\", columns= \"Date\", values= \"Benchmark Price (Apartment)\")\n",
    "# housingPrice_pivot.plot(kind = \"bar\", rot = \"vertical\", figsize = (10, 8))\n",
    "# plt.xlabel(\"Name of Region\")\n",
    "# plt.ylabel(\"Benchmark Composite Price\")\n",
    "# plt.title(\"Comparision of Composite prices for 2015 and 2020 (Covid effect)\")\n",
    "# plt.figure(figsize = (20, 10))\n",
    "# plt.show()"
   ]
  },
  {
   "cell_type": "code",
   "execution_count": 23,
   "metadata": {},
   "outputs": [],
   "source": [
    "# housing_price[['Month','Year']] = housing_price.Date.str.split(\" \", expand=True)\n",
    "# housing_price.head()"
   ]
  },
  {
   "cell_type": "code",
   "execution_count": 24,
   "metadata": {},
   "outputs": [],
   "source": [
    "# # housing_price.loc[\"Date\"] == \n",
    "\n",
    "# new = housing_price.groupby([\"Year\"]).mean()\n",
    "\n",
    "# new = new[[\"2010\"]]\n",
    "# new"
   ]
  },
  {
   "cell_type": "code",
   "execution_count": null,
   "metadata": {},
   "outputs": [],
   "source": [
    "# housingPrice_2005_2020 = housing_price.loc[((housing_price[\"Date\"] == \"Jan 2019\") | (housing_price[\"Date\"] == \"May 2019\") | (housing_price[\"Date\"] == \"Jan 2020\") | (housing_price[\"Date\"] == \"May 2020\"))]\n",
    "\n",
    "# housingPrice_2005_2020 = housingPrice_2005_2020[[\"Date\", \"Region\", \"Benchmark Price (Apartment)\"]]\n",
    "\n",
    "# housingPrice_pivot = housingPrice_2005_2020.pivot(index= \"Region\", columns= \"Date\", values= \"Benchmark Price (Apartment)\")\n",
    "# housingPrice_pivot.plot(kind = \"bar\", rot = \"vertical\", figsize = (10, 8))\n",
    "# plt.xlabel(\"Name of Region\")\n",
    "# plt.ylabel(\"Benchmark price for Apartment & Two-Storey\")\n",
    "# plt.title(\"Comparision of prices of Apartment & Two-Storey for the Jan 2020 & May 2020 (Covid effect)\")\n",
    "# plt.figure(figsize = (20, 10))\n",
    "# plt.show()"
   ]
  }
 ],
 "metadata": {
  "kernelspec": {
   "display_name": "Python [conda env:PythonData] *",
   "language": "python",
   "name": "conda-env-PythonData-py"
  },
  "language_info": {
   "codemirror_mode": {
    "name": "ipython",
    "version": 3
   },
   "file_extension": ".py",
   "mimetype": "text/x-python",
   "name": "python",
   "nbconvert_exporter": "python",
   "pygments_lexer": "ipython3",
   "version": "3.6.10"
  }
 },
 "nbformat": 4,
 "nbformat_minor": 4
}
